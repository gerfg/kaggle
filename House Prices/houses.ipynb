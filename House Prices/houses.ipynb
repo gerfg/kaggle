{
 "cells": [
  {
   "cell_type": "code",
   "execution_count": null,
   "metadata": {},
   "outputs": [],
   "source": [
    "import pandas as pd"
   ]
  },
  {
   "cell_type": "code",
   "execution_count": null,
   "metadata": {},
   "outputs": [],
   "source": [
    "train = pd.read_csv('data/train.csv')\n",
    "test = pd.read_csv('data/test.csv')\n",
    "\n",
    "train.shape, test.shape"
   ]
  },
  {
   "cell_type": "code",
   "execution_count": null,
   "metadata": {},
   "outputs": [],
   "source": [
    "test.isnull().sum().head(60)"
   ]
  },
  {
   "cell_type": "markdown",
   "metadata": {},
   "source": [
    "# Preprocessing"
   ]
  },
  {
   "cell_type": "code",
   "execution_count": null,
   "metadata": {},
   "outputs": [],
   "source": [
    "locate_nulls = 'GarageYrBlt'\n",
    "print_cols = [locate_nulls]\n",
    "\n",
    "train.loc[train[locate_nulls].isnull() == True][print_cols]\n",
    "train[locate_nulls].value_counts()"
   ]
  },
  {
   "cell_type": "code",
   "execution_count": null,
   "metadata": {},
   "outputs": [],
   "source": [
    "# Removing colunms not used by model and with many NA\n",
    "to_drop = ['Id', 'Utilities', 'LotFrontage', 'Alley', 'PoolQC']\n",
    "train.drop(to_drop, axis=1, inplace=True)\n",
    "test.drop(to_drop, axis=1, inplace=True)\n",
    "\n",
    "train['MasVnrType'].fillna('None', inplace=True)\n",
    "train['MasVnrArea'].fillna(0, inplace=True)\n",
    "train['Fence'].fillna('None', inplace=True)\n",
    "train['MiscFeature'].fillna('None', inplace=True)\n",
    "train['FireplaceQu'].fillna('None', inplace=True)\n",
    "\n",
    "test['MasVnrType'].fillna('None', inplace=True)\n",
    "test['MasVnrArea'].fillna(0, inplace=True)\n",
    "test['Fence'].fillna('None', inplace=True)\n",
    "test['MiscFeature'].fillna('None', inplace=True)\n",
    "test['FireplaceQu'].fillna('None', inplace=True)\n",
    "\n",
    "train.drop(train.index[train['BsmtQual'].isnull()], inplace=True)\n",
    "train.drop(train.index[train['BsmtExposure'].isnull()], inplace=True)\n",
    "train.drop(train.index[train['BsmtFinType2'].isnull()], inplace=True)\n",
    "train.drop(train.index[train['GarageType'].isnull()], inplace=True)\n",
    "\n",
    "test.drop(train.index[train['BsmtQual'].isnull()], inplace=True)\n",
    "test.drop(train.index[train['BsmtExposure'].isnull()], inplace=True)\n",
    "test.drop(train.index[train['BsmtFinType2'].isnull()], inplace=True)\n",
    "test.drop(train.index[train['GarageType'].isnull()], inplace=True)"
   ]
  },
  {
   "cell_type": "code",
   "execution_count": null,
   "metadata": {},
   "outputs": [],
   "source": [
    "X = pd.get_dummies(train.drop('SalePrice', axis=1))\n",
    "y = train['SalePrice']\n",
    "\n",
    "from sklearn.linear_model import LinearRegression\n",
    "lr = LinearRegression()\n",
    "lr.fit(X, y)\n",
    "lr.score(X,y)"
   ]
  },
  {
   "cell_type": "code",
   "execution_count": null,
   "metadata": {},
   "outputs": [],
   "source": [
    "X_test = pd.get_dummies(test)\n",
    "\n",
    "lr.predict(X_test)"
   ]
  }
 ],
 "metadata": {
  "kernelspec": {
   "display_name": "Python 3",
   "language": "python",
   "name": "python3"
  },
  "language_info": {
   "codemirror_mode": {
    "name": "ipython",
    "version": 3
   },
   "file_extension": ".py",
   "mimetype": "text/x-python",
   "name": "python",
   "nbconvert_exporter": "python",
   "pygments_lexer": "ipython3",
   "version": "3.7.6"
  }
 },
 "nbformat": 4,
 "nbformat_minor": 4
}